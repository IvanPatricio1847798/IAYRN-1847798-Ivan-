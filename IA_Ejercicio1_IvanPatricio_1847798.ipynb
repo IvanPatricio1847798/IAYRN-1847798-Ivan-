{
  "nbformat": 4,
  "nbformat_minor": 0,
  "metadata": {
    "colab": {
      "provenance": [],
      "collapsed_sections": [],
      "authorship_tag": "ABX9TyNv5K39ov1ffz1Ihw6yrVRa",
      "include_colab_link": true
    },
    "kernelspec": {
      "name": "python3",
      "display_name": "Python 3"
    },
    "language_info": {
      "name": "python"
    }
  },
  "cells": [
    {
      "cell_type": "markdown",
      "metadata": {
        "id": "view-in-github",
        "colab_type": "text"
      },
      "source": [
        "<a href=\"https://colab.research.google.com/github/IvanPatricio1847798/IAYRN-1847798-Ivan-/blob/main/IA_Ejercicio1_IvanPatricio_1847798.ipynb\" target=\"_parent\"><img src=\"https://colab.research.google.com/assets/colab-badge.svg\" alt=\"Open In Colab\"/></a>"
      ]
    },
    {
      "cell_type": "markdown",
      "source": [
        "**A2: Ejercicios en Python Ivan Patricio Lomas Castillo, 1847798, Sabatinos** **N1**"
      ],
      "metadata": {
        "id": "RhP8QcQf95LC"
      }
    },
    {
      "cell_type": "markdown",
      "source": [
        "Ejercicio 1:Escribe un programa que le pida al usuario por su nombre y que lo salude con su nombre, excepto si se llama “Ana”, “Juan”, y “Pedro”."
      ],
      "metadata": {
        "id": "F1ccuSC5_HfS"
      }
    },
    {
      "cell_type": "code",
      "source": [
        "Nombre = input(\"¿Cuál es tu nombre? \")\n",
        "if Nombre == \"Ana\" :\n",
        "  print(\"Error\")\n",
        "elif Nombre == \"Pedro\" :\n",
        "  print(\"Error\")\n",
        "elif Nombre == \"Juan\" :\n",
        "   print(\"Error\")\n",
        "else:\n",
        "  print(\"¡Hola\" + \" \" + Nombre + \"!\")"
      ],
      "metadata": {
        "colab": {
          "base_uri": "https://localhost:8080/"
        },
        "id": "gKBWNu7f-MP1",
        "outputId": "9605fc95-c8eb-4b59-b44f-ee5aa544ad95"
      },
      "execution_count": 37,
      "outputs": [
        {
          "output_type": "stream",
          "name": "stdout",
          "text": [
            "¿Cuál es tu nombre? Ivan\n",
            "¡Hola Ivan!\n"
          ]
        }
      ]
    },
    {
      "cell_type": "markdown",
      "source": [
        "Ejercicio 2: Escribe una función que regrese el último elemento de una lista y que revierta el orden de la lista e imprima la lista revertida."
      ],
      "metadata": {
        "id": "TWeO1vD2KQ85"
      }
    },
    {
      "cell_type": "code",
      "source": [
        "def funcion(lista):\n",
        "  print(lista[-1])\n",
        "  for y in reversed(lista):\n",
        "    print(y)\n",
        "x = input(\"Ingrese la lista \")\n",
        "funcion(x)"
      ],
      "metadata": {
        "colab": {
          "base_uri": "https://localhost:8080/"
        },
        "id": "fKsEMjvPWOPC",
        "outputId": "cd09bab5-68e0-4f3c-dce9-acaa5ec4ac30"
      },
      "execution_count": 63,
      "outputs": [
        {
          "output_type": "stream",
          "name": "stdout",
          "text": [
            "Ingrese la lista 5 6 7 8\n",
            "8\n",
            "8\n",
            " \n",
            "7\n",
            " \n",
            "6\n",
            " \n",
            "5\n"
          ]
        }
      ]
    },
    {
      "cell_type": "markdown",
      "source": [
        "Ejercicio 3: Escribe una función que toma una lista de strings y los imprima línea por línea en un marco rectangular."
      ],
      "metadata": {
        "id": "Ujs6MBSFMh7x"
      }
    },
    {
      "cell_type": "code",
      "source": [
        "a = \"******************\"\n",
        "b = \"*    And I....   *\"\n",
        "c = \"*   am....       *\"\n",
        "d = \"*    Iron Man    *\"\n",
        "e = \"******************\"\n",
        "print(a)\n",
        "print(b)\n",
        "print(c)\n",
        "print(d)\n",
        "print(e)\n"
      ],
      "metadata": {
        "colab": {
          "base_uri": "https://localhost:8080/"
        },
        "id": "xmzEfQTkMvat",
        "outputId": "995a94f8-4143-4123-e62c-8f966e37115e"
      },
      "execution_count": 71,
      "outputs": [
        {
          "output_type": "stream",
          "name": "stdout",
          "text": [
            "******************\n",
            "*    And I....   *\n",
            "*   am....       *\n",
            "*    Iron Man    *\n",
            "******************\n"
          ]
        }
      ]
    }
  ]
}